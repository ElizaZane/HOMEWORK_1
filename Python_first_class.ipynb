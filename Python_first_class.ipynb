{
  "nbformat": 4,
  "nbformat_minor": 0,
  "metadata": {
    "colab": {
      "provenance": [],
      "authorship_tag": "ABX9TyNnFDq0w9ha2/0i2HoHW/Hz",
      "include_colab_link": true
    },
    "kernelspec": {
      "name": "python3",
      "display_name": "Python 3"
    },
    "language_info": {
      "name": "python"
    }
  },
  "cells": [
    {
      "cell_type": "markdown",
      "metadata": {
        "id": "view-in-github",
        "colab_type": "text"
      },
      "source": [
        "<a href=\"https://colab.research.google.com/github/ElizaZane/HOMEWORK_1/blob/main/Python_first_class.ipynb\" target=\"_parent\"><img src=\"https://colab.research.google.com/assets/colab-badge.svg\" alt=\"Open In Colab\"/></a>"
      ]
    },
    {
      "cell_type": "code",
      "execution_count": 1,
      "metadata": {
        "colab": {
          "base_uri": "https://localhost:8080/"
        },
        "id": "ehknG3SDh8WQ",
        "outputId": "ef54c16e-5600-4511-b1f4-14b24848e82c"
      },
      "outputs": [
        {
          "output_type": "stream",
          "name": "stdout",
          "text": [
            "6\n",
            "50\n"
          ]
        }
      ],
      "source": [
        "my_var = 6\n",
        "print(my_var) #snake syntax meaning _ syntax\n",
        "myVar = 50 # camelCase Syntax common in Javascript orher programming\n",
        "print(myVar)\n",
        "# recommendation is to keep one style for one project one notebook"
      ]
    },
    {
      "cell_type": "code",
      "source": [
        "my_NAME = \"Grina\"\n",
        "print(my_NAME) #case sensitive "
      ],
      "metadata": {
        "colab": {
          "base_uri": "https://localhost:8080/"
        },
        "id": "5OaPhoyAm31-",
        "outputId": "1c5d2478-e393-4c14-b2a5-f535dce81557"
      },
      "execution_count": 2,
      "outputs": [
        {
          "output_type": "stream",
          "name": "stdout",
          "text": [
            "Grina\n"
          ]
        }
      ]
    },
    {
      "cell_type": "code",
      "source": [
        "\n",
        "The following identifiers are used as reserved words, or keywords of the language, and cannot be used as ordinary identifiers. They must be spelled exactly as written here:\n",
        "\n",
        "False      class      finally    is         return\n",
        "None       continue   for        lambda     try\n",
        "True       def        from       nonlocal   while\n",
        "and        del        global     not        with\n",
        "as         elif       if         or         yield\n",
        "assert     else       import     pass\n",
        "break      except     in         raise"
      ],
      "metadata": {
        "id": "IZZqQ4iFnGwn"
      },
      "execution_count": null,
      "outputs": []
    },
    {
      "cell_type": "code",
      "source": [
        "class = \"RTU\" #will not work\n",
        "# instead try to add underscore see next code"
      ],
      "metadata": {
        "colab": {
          "base_uri": "https://localhost:8080/",
          "height": 131
        },
        "id": "FkC_4SvMnJud",
        "outputId": "916dd0d5-bd79-4e9d-829a-0cf2292a3a06"
      },
      "execution_count": 3,
      "outputs": [
        {
          "output_type": "error",
          "ename": "SyntaxError",
          "evalue": "ignored",
          "traceback": [
            "\u001b[0;36m  File \u001b[0;32m\"<ipython-input-3-c736821c8819>\"\u001b[0;36m, line \u001b[0;32m1\u001b[0m\n\u001b[0;31m    class = RTU #will not work\u001b[0m\n\u001b[0m          ^\u001b[0m\n\u001b[0;31mSyntaxError\u001b[0m\u001b[0;31m:\u001b[0m invalid syntax\n"
          ]
        }
      ]
    },
    {
      "cell_type": "code",
      "source": [
        "class_ = \"RTU Python\""
      ],
      "metadata": {
        "id": "hl8H2EuanVy5"
      },
      "execution_count": 5,
      "outputs": []
    },
    {
      "cell_type": "code",
      "source": [
        "my_food = \"carrots\"\n",
        "# my_other_food = myfood #this will be an error as i dont have my foood :D\n",
        "my_other_food = my_food #this point to the same value\n",
        "#in Python I can reassign values\n",
        "#my_food = \"potatoes\"\n",
        "print(\"My favorite foods are\", my_food, \"and\", my_other_food)"
      ],
      "metadata": {
        "colab": {
          "base_uri": "https://localhost:8080/"
        },
        "id": "Sv_wFNPXoT4D",
        "outputId": "638d580b-b37c-410d-b943-fab3fce3fcd6"
      },
      "execution_count": 12,
      "outputs": [
        {
          "output_type": "stream",
          "name": "stdout",
          "text": [
            "My favorite foods are carrots and carrots\n"
          ]
        }
      ]
    },
    {
      "cell_type": "code",
      "source": [
        "my_food = \"oats\""
      ],
      "metadata": {
        "id": "I7UD4vL0piWL"
      },
      "execution_count": null,
      "outputs": []
    },
    {
      "cell_type": "code",
      "source": [
        "print(\"My fav food is\", my_food, \"and\", my_other_food)"
      ],
      "metadata": {
        "colab": {
          "base_uri": "https://localhost:8080/"
        },
        "id": "EE1X0PcGpnV-",
        "outputId": "45b70663-196f-4e28-fc48-f56280bd6316"
      },
      "execution_count": 13,
      "outputs": [
        {
          "output_type": "stream",
          "name": "stdout",
          "text": [
            "My fav food is carrots and carrots\n"
          ]
        }
      ]
    },
    {
      "cell_type": "code",
      "source": [
        "type(\"5\")"
      ],
      "metadata": {
        "colab": {
          "base_uri": "https://localhost:8080/"
        },
        "id": "uKfbr2yDqAlT",
        "outputId": "dc20848c-df85-4891-8194-49f4904c5ea8"
      },
      "execution_count": 15,
      "outputs": [
        {
          "output_type": "execute_result",
          "data": {
            "text/plain": [
              "str"
            ]
          },
          "metadata": {},
          "execution_count": 15
        }
      ]
    },
    {
      "cell_type": "code",
      "source": [
        "a = \"answer\"\n",
        "type(a)"
      ],
      "metadata": {
        "colab": {
          "base_uri": "https://localhost:8080/"
        },
        "id": "C3G8b3phqFs5",
        "outputId": "c7943e5a-2606-45d2-9643-d713f89b4a00"
      },
      "execution_count": 16,
      "outputs": [
        {
          "output_type": "execute_result",
          "data": {
            "text/plain": [
              "str"
            ]
          },
          "metadata": {},
          "execution_count": 16
        }
      ]
    },
    {
      "cell_type": "code",
      "source": [
        "type(my_NAME)"
      ],
      "metadata": {
        "colab": {
          "base_uri": "https://localhost:8080/"
        },
        "id": "jeMuFIUsqOkF",
        "outputId": "494c968a-65e1-4ec1-ba47-821823ecc44b"
      },
      "execution_count": 18,
      "outputs": [
        {
          "output_type": "execute_result",
          "data": {
            "text/plain": [
              "str"
            ]
          },
          "metadata": {},
          "execution_count": 18
        }
      ]
    },
    {
      "cell_type": "code",
      "source": [
        "# this is not a variable\n",
        " this_is_variable = 5.1634 # this is flaoting point for rational numbers (nukmber with comma (,) )"
      ],
      "metadata": {
        "id": "3SWZG8zjqaWA"
      },
      "execution_count": null,
      "outputs": []
    },
    {
      "cell_type": "code",
      "source": [],
      "metadata": {
        "id": "mXnGunEZu5nb"
      },
      "execution_count": null,
      "outputs": []
    },
    {
      "cell_type": "code",
      "source": [
        "# short program to ask for someones name and then display it\n",
        "user_name = input(\"what is your name firend?\")\n",
        "print(\"nice to meet you\", user_name)\n",
        "favorite_food = input (\"what is your favorite food?\")\n",
        "print(f\"Nice I like {favorite_food} myself\")\n",
        "quantity = input (f\"How many kg of {favorite_food} do you eat in a week?\")\n",
        "print(f\"Fantastic I will buy {quantity} for you\")"
      ],
      "metadata": {
        "colab": {
          "base_uri": "https://localhost:8080/"
        },
        "id": "3GyGVdoZyNI0",
        "outputId": "475643a8-c7ad-4bf6-9aac-93cf96a76429"
      },
      "execution_count": 22,
      "outputs": [
        {
          "output_type": "stream",
          "name": "stdout",
          "text": [
            "what is your name firend?rudis\n",
            "nice to meet you rudis\n",
            "what is your favorite food?chicken\n",
            "Nice I like chicken myself\n",
            "How many kg of chicken do you eat in a week?a lot\n",
            "Fantastic I will buy a lot for you\n"
          ]
        }
      ]
    },
    {
      "cell_type": "code",
      "source": [],
      "metadata": {
        "id": "qy40g6Zw0vn-"
      },
      "execution_count": 21,
      "outputs": []
    }
  ]
}